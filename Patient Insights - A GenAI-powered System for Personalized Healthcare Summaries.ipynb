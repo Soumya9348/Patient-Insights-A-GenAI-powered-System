{
 "cells": [
  {
   "cell_type": "code",
   "execution_count": 10,
   "id": "46696943-f6b1-4908-8289-ee8ca46c0868",
   "metadata": {},
   "outputs": [],
   "source": [
    "\n",
    "import os\n",
    "import requests\n",
    "from typing import List\n",
    "from dotenv import load_dotenv\n",
    "from IPython.display import Markdown, display, update_display\n",
    "from openai import OpenAI"
   ]
  },
  {
   "cell_type": "code",
   "execution_count": 1,
   "id": "a1f03c11-cb3f-4b2b-9ce5-fea3cb30ba9a",
   "metadata": {},
   "outputs": [],
   "source": [
    "import pandas as pd\n",
    "merged_data = pd.read_parquet('/Users/soumyasouravbehera/Downloads/final_data_dropped.parquet', engine = 'pyarrow')"
   ]
  },
  {
   "cell_type": "code",
   "execution_count": 3,
   "id": "0b91c149-e7e7-482a-ae19-0171eb68447f",
   "metadata": {},
   "outputs": [
    {
     "data": {
      "text/plain": [
       "Index(['PATIENT', 'DESCRIPTION', 'REASONDESCRIPTION', 'BIRTHDATE', 'DEATHDATE',\n",
       "       'DESCRIPTION_allergy', 'START_careplan', 'STOP_careplan',\n",
       "       'DESCRIPTION_careplan', 'REASONDESCRIPTION_careplan', 'START_condition',\n",
       "       'STOP_condition', 'DESCRIPTION_condition', 'DATE_immunization',\n",
       "       'DESCRIPTION_immunization', 'DESCRIPTION_procedures'],\n",
       "      dtype='object')"
      ]
     },
     "execution_count": 3,
     "metadata": {},
     "output_type": "execute_result"
    }
   ],
   "source": [
    "merged_data.columns"
   ]
  },
  {
   "cell_type": "code",
   "execution_count": 16,
   "id": "d8839083-3253-4dc4-848d-5ba62ef87c71",
   "metadata": {},
   "outputs": [
    {
     "name": "stdout",
     "output_type": "stream",
     "text": [
      "API key looks good so far\n"
     ]
    }
   ],
   "source": [
    "# Initialize and constants\n",
    "\n",
    "load_dotenv()\n",
    "api_key = os.getenv('OPENAI_API_KEY')\n",
    "\n",
    "if api_key and api_key.startswith('sk-proj-') and len(api_key)>10:\n",
    "    print(\"API key looks good so far\")\n",
    "else:\n",
    "    print(\"There might be a problem with your API key\")\n",
    "    \n",
    "MODEL = 'gpt-4o-mini'\n",
    "openai = OpenAI()"
   ]
  },
  {
   "cell_type": "code",
   "execution_count": 17,
   "id": "6f1b5b1c-0e93-4365-b6b1-1b6c1c853a78",
   "metadata": {},
   "outputs": [
    {
     "data": {
      "text/markdown": [
       "# Patient Summary\n",
       "\n",
       "## Patient Information\n",
       "- **Patient ID:** bb66df6a-fe47-4be9-804f-e896ab535b99\n",
       "- **Birthdate:** November 16, 1948\n",
       "- **Deathdate:** Not Applicable (alive)\n",
       "\n",
       "## Encounter Details\n",
       "- **Type of Encounter:** Outpatient Encounter\n",
       "\n",
       "## Allergies\n",
       "- **Allergies:** None reported\n",
       "\n",
       "## Care Plans\n",
       "- **Care Plans:** None available\n",
       "\n",
       "## Medical Conditions\n",
       "- **Conditions:** None documented\n",
       "\n",
       "## Immunizations\n",
       "- **Immunizations Received:**\n",
       "  - **Influenza:** Seasonal, injectable, preservative-free\n",
       "\n",
       "## Procedures\n",
       "- **Procedures:** None performed\n",
       "\n",
       "---\n",
       "\n",
       "## Insights\n",
       "The patient has no reported allergies, chronic conditions, care plans, or recent procedures. They have received a seasonal influenza vaccination, which is commendable, especially considering their age. \n",
       "\n",
       "**Missing Information:**\n",
       "- There are no current medical conditions documented, which could suggest either good health or a lack of thorough examination/documentation.\n",
       "- No care plans are in place, indicating a potential need for routine health monitoring or preventive care.\n",
       "\n",
       "## Next Steps\n",
       "1. **Regular Health Monitoring:** Given the patient's age, it would be prudent to schedule routine check-ups to monitor blood pressure, cholesterol levels, and other key health indicators.\n",
       "  \n",
       "2. **Discuss Preventive Screenings:** Consider discussing age-appropriate screenings such as mammograms, colonoscopies, or prostate checks depending on gender, family history, and other risk factors.\n",
       "  \n",
       "3. **Vaccination Update:** Review potential need for other vaccinations, such as pneumococcal vaccines or shingles vaccination, depending on the patient’s health status and medical history.\n",
       "\n",
       "4. **Health Education:** Provide education on maintaining a healthy lifestyle, including diet, exercise recommendations, and the importance of regular medical follow-ups.\n",
       "\n",
       "5. **Documentation Improvement:** Ensure that all relevant health information, care plans, and conditions are documented in the medical record during the next visit for better health management."
      ],
      "text/plain": [
       "<IPython.core.display.Markdown object>"
      ]
     },
     "metadata": {},
     "output_type": "display_data"
    },
    {
     "name": "stdout",
     "output_type": "stream",
     "text": [
      "Generated Markdown Summary:\n",
      "None\n"
     ]
    }
   ],
   "source": [
    "import pandas as pd\n",
    "import openai\n",
    "\n",
    "# Set your OpenAI API key\n",
    "openai.api_key = api_key\n",
    "# Function to create the prompt\n",
    "def create_prompt(patient_data):\n",
    "    return f\"\"\"\n",
    "    Generate a detailed markdown summary for the following patient details:\n",
    "    - Patient ID: {patient_data['PATIENT']}\n",
    "    - Description: {patient_data['DESCRIPTION']}\n",
    "    - Birthdate: {patient_data['BIRTHDATE']}\n",
    "    - Deathdate: {patient_data['DEATHDATE']}\n",
    "    - Allergies: {patient_data['DESCRIPTION_allergy'] or \"None\"}\n",
    "    - Careplans: {patient_data['DESCRIPTION_careplan'] or \"None\"}\n",
    "    - Conditions: {patient_data['DESCRIPTION_condition'] or \"None\"}\n",
    "    - Immunizations: {patient_data['DESCRIPTION_immunization'] or \"None\"}\n",
    "    - Procedures: {patient_data['DESCRIPTION_procedures'] or \"None\"}\n",
    "    \n",
    "    Ensure the output includes:\n",
    "    1. Clear sections for each category.\n",
    "    2. Insights on the patient's data, e.g., if any critical details are missing or require attention.\n",
    "    3. Suggestions for next steps based on their conditions, if applicable.\n",
    "    \"\"\"\n",
    "\n",
    "# Function to get markdown from OpenAI\n",
    "def generate_markdown_summary(patient_id):\n",
    "    # Filter the dataset for the patient\n",
    "    patient_data = merged_data[merged_data['PATIENT'] == patient_id]\n",
    "    \n",
    "    if patient_data.empty:\n",
    "        return f\"No data found for patient ID {patient_id}\"\n",
    "    \n",
    "    # Convert to dictionary for easier access\n",
    "    patient_data = patient_data.iloc[0].to_dict()\n",
    "    \n",
    "    # Create the prompt\n",
    "    prompt = create_prompt(patient_data)\n",
    "    \n",
    "    # Generate the markdown summary using OpenAI\n",
    "    try:\n",
    "        response = openai.chat.completions.create(\n",
    "            model=\"gpt-4o-mini\",  # Use a suitable model\n",
    "            messages=[\n",
    "                {\"role\": \"system\", \"content\": \"You are a helpful assistant skilled in summarizing patient details.\"},\n",
    "                {\"role\": \"user\", \"content\": prompt}\n",
    "            ]\n",
    "        )\n",
    "        result =  response.choices[0].message.content\n",
    "        return display(Markdown(result))\n",
    "    except Exception as e:\n",
    "        return f\"Error generating markdown: {str(e)}\"\n",
    "\n",
    "\n",
    "\n",
    "# Input: Specify the patient ID\n",
    "patient_id = \"bb66df6a-fe47-4be9-804f-e896ab535b99\"\n",
    "markdown_details = generate_markdown_summary(patient_id)\n",
    "\n",
    "\n",
    "# # Optionally, save the output to a file\n",
    "# with open(f'patient_{patient_id}_summary.md', 'w') as file:\n",
    "#     file.write(markdown_details)\n"
   ]
  },
  {
   "cell_type": "code",
   "execution_count": null,
   "id": "1f60f079-648f-482d-aec6-9894a74e9095",
   "metadata": {},
   "outputs": [],
   "source": []
  }
 ],
 "metadata": {
  "kernelspec": {
   "display_name": "Python 3 (ipykernel)",
   "language": "python",
   "name": "python3"
  },
  "language_info": {
   "codemirror_mode": {
    "name": "ipython",
    "version": 3
   },
   "file_extension": ".py",
   "mimetype": "text/x-python",
   "name": "python",
   "nbconvert_exporter": "python",
   "pygments_lexer": "ipython3",
   "version": "3.11.11"
  }
 },
 "nbformat": 4,
 "nbformat_minor": 5
}
